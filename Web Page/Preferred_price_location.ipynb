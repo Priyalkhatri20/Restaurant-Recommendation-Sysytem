{
 "cells": [
  {
   "cell_type": "code",
   "execution_count": 1,
   "id": "6801db9e",
   "metadata": {},
   "outputs": [],
   "source": [
    "# Import the pandas library and use the alias 'pd' for convenience\n",
    "import pandas as pd\n"
   ]
  },
  {
   "cell_type": "code",
   "execution_count": 24,
   "id": "0c7a8971",
   "metadata": {},
   "outputs": [],
   "source": [
    "# Read data from the \"restaurant_data.csv\" file and store it in a DataFrame named 'df'\n",
    "df = pd.read_csv(\"restaurant_data.csv\")\n"
   ]
  },
  {
   "cell_type": "code",
   "execution_count": 25,
   "id": "6c4e978a",
   "metadata": {},
   "outputs": [
    {
     "data": {
      "text/html": [
       "<div>\n",
       "<style scoped>\n",
       "    .dataframe tbody tr th:only-of-type {\n",
       "        vertical-align: middle;\n",
       "    }\n",
       "\n",
       "    .dataframe tbody tr th {\n",
       "        vertical-align: top;\n",
       "    }\n",
       "\n",
       "    .dataframe thead th {\n",
       "        text-align: right;\n",
       "    }\n",
       "</style>\n",
       "<table border=\"1\" class=\"dataframe\">\n",
       "  <thead>\n",
       "    <tr style=\"text-align: right;\">\n",
       "      <th></th>\n",
       "      <th>Restaurant_Name</th>\n",
       "      <th>Cuisine</th>\n",
       "      <th>Price_for_two</th>\n",
       "      <th>Location</th>\n",
       "      <th>Rating</th>\n",
       "    </tr>\n",
       "  </thead>\n",
       "  <tbody>\n",
       "    <tr>\n",
       "      <th>0</th>\n",
       "      <td>Cafe Amudham</td>\n",
       "      <td>south indian</td>\n",
       "      <td>400</td>\n",
       "      <td>jayanagar</td>\n",
       "      <td>100</td>\n",
       "    </tr>\n",
       "    <tr>\n",
       "      <th>1</th>\n",
       "      <td>Cafe Amudham</td>\n",
       "      <td>snacks</td>\n",
       "      <td>400</td>\n",
       "      <td>jayanagar</td>\n",
       "      <td>100</td>\n",
       "    </tr>\n",
       "    <tr>\n",
       "      <th>2</th>\n",
       "      <td>Sannidhi Grand</td>\n",
       "      <td>south indian</td>\n",
       "      <td>150</td>\n",
       "      <td>kammanahalli</td>\n",
       "      <td>10000</td>\n",
       "    </tr>\n",
       "    <tr>\n",
       "      <th>3</th>\n",
       "      <td>Sannidhi Grand</td>\n",
       "      <td>north indian</td>\n",
       "      <td>150</td>\n",
       "      <td>kammanahalli</td>\n",
       "      <td>10000</td>\n",
       "    </tr>\n",
       "    <tr>\n",
       "      <th>4</th>\n",
       "      <td>Sannidhi Grand</td>\n",
       "      <td>chinese</td>\n",
       "      <td>150</td>\n",
       "      <td>kammanahalli</td>\n",
       "      <td>10000</td>\n",
       "    </tr>\n",
       "  </tbody>\n",
       "</table>\n",
       "</div>"
      ],
      "text/plain": [
       "  Restaurant_Name       Cuisine  Price_for_two      Location  Rating\n",
       "0    Cafe Amudham  south indian            400     jayanagar     100\n",
       "1    Cafe Amudham        snacks            400     jayanagar     100\n",
       "2  Sannidhi Grand  south indian            150  kammanahalli   10000\n",
       "3  Sannidhi Grand  north indian            150  kammanahalli   10000\n",
       "4  Sannidhi Grand       chinese            150  kammanahalli   10000"
      ]
     },
     "execution_count": 25,
     "metadata": {},
     "output_type": "execute_result"
    }
   ],
   "source": [
    "df.head()"
   ]
  },
  {
   "cell_type": "code",
   "execution_count": 26,
   "id": "f6444d6b",
   "metadata": {},
   "outputs": [
    {
     "name": "stdout",
     "output_type": "stream",
     "text": [
      "snacks\n",
      "200\n",
      "jayanagar\n"
     ]
    }
   ],
   "source": [
    "# Capture user input for cuisine, price for two, and location\n",
    "cuisine = input().lower().strip()  # Convert to lowercase and remove leading/trailing whitespace\n",
    "price_for_two = int(input())       # Capture an integer value for price_for_two\n",
    "location = input().lower().strip() # Convert to lowercase and remove leading/trailing whitespace\n"
   ]
  },
  {
   "cell_type": "code",
   "execution_count": 144,
   "id": "81d47f35",
   "metadata": {},
   "outputs": [],
   "source": [
    "def recommendation(location,cuisine):\n",
    "    # for the area selected, display the popular cuisine\n",
    "    popular_cuis = ''\n",
    "    popular_cuisine = df[df['Location'] == location].groupby('Cuisine')['Cuisine'].count().sort_values(ascending=False)\n",
    "    popular_cuisine =  popular_cuisine[popular_cuisine == popular_cuisine.max()].index.tolist()\n",
    "    if len(popular_cuisine) == 1:\n",
    "        popular_cuis = popular_cuisine[0]\n",
    "    else:\n",
    "        for i in popular_cuisine:\n",
    "            if i not in popular_cuisine[-1]:\n",
    "                popular_cuis += i\n",
    "                popular_cuis += ', '\n",
    "            else:\n",
    "                popular_cuis += i\n",
    "                \n",
    "    # average price for 2\n",
    "    avg_price_for_2 = round(df[df['Location'] == location]['Price_for_two'].mean(),0)\n",
    "    \n",
    "    # Display the most popular Restaurant and Cuisine they are serving\n",
    "    most_popular_restaurant = df[(df['Location'] == location)].sort_values('Rating',ascending=False).iloc[0][0]\n",
    "\n",
    "    serves = ''\n",
    "    most_popular_restaurant_serve = df[df['Restaurant_Name'] == most_popular_restaurant]['Cuisine'].tolist()\n",
    "    if len(most_popular_restaurant_serve) == 1:\n",
    "        serves = most_popular_restaurant_serve[0]\n",
    "    else:\n",
    "        for i in most_popular_restaurant_serve:\n",
    "            if i not in most_popular_restaurant_serve[-1]:\n",
    "                serves += i\n",
    "                serves += ', '\n",
    "            else:\n",
    "                serves += i\n",
    "    # Display the most popular restaurant that is serving the same cuisine as user provided cuisine\n",
    "    most_popular_restaurant_that_serves_your_cuisine = df[(df['Location'] == location) & (df['Cuisine'] == cuisine)].sort_values('Rating',ascending=False).iloc[0][0]\n",
    "    \n",
    "    return [avg_price_for_2,popular_cuis,most_popular_restaurant,serves,most_popular_restaurant_that_serves_your_cuisine]"
   ]
  },
  {
   "cell_type": "code",
   "execution_count": null,
   "id": "8ae78168",
   "metadata": {},
   "outputs": [],
   "source": []
  },
  {
   "cell_type": "markdown",
   "id": "7bef479f",
   "metadata": {},
   "source": [
    "# "
   ]
  }
 ],
 "metadata": {
  "kernelspec": {
   "display_name": "Python 3 (ipykernel)",
   "language": "python",
   "name": "python3"
  },
  "language_info": {
   "codemirror_mode": {
    "name": "ipython",
    "version": 3
   },
   "file_extension": ".py",
   "mimetype": "text/x-python",
   "name": "python",
   "nbconvert_exporter": "python",
   "pygments_lexer": "ipython3",
   "version": "3.9.12"
  }
 },
 "nbformat": 4,
 "nbformat_minor": 5
}
